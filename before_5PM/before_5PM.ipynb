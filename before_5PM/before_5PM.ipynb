{
 "cells": [
  {
   "cell_type": "code",
   "execution_count": 1,
   "id": "296dd704",
   "metadata": {},
   "outputs": [],
   "source": [
    "import os, shutil, re, csv, openpyxl, math\n",
    "import pandas as pd\n",
    "import numpy as np\n",
    "from openpyxl.styles import PatternFill"
   ]
  },
  {
   "cell_type": "code",
   "execution_count": 2,
   "id": "8c5ec545",
   "metadata": {},
   "outputs": [],
   "source": [
    "def get_color_row_idx(file):\n",
    "    workbook = openpyxl.load_workbook(file)\n",
    "    worksheet = workbook['Individual']\n",
    "    start_col_idx = 0\n",
    "    total_col = worksheet.max_column # 48columns need to be extracted\n",
    "    color_map = openpyxl.styles.colors.COLOR_INDEX\n",
    "    \n",
    "    for cell in worksheet['A']:\n",
    "        if cell.value == 'Time(min)':\n",
    "            start_row_idx = cell.row\n",
    "            print(\"Time(min) start:\",start_row_idx) # group1.xlsm shoud be : 50\n",
    "    for column1 in worksheet.iter_cols(min_col=start_col_idx, max_col = start_col_idx+1, min_row =start_row_idx+1 ):\n",
    "        for cell in column1:\n",
    "            color_index = cell.fill.start_color.index\n",
    "            rgb = color_map[int(color_index)]\n",
    "            if rgb == '00FF0000':\n",
    "                end_time_row_idx = cell.row\n",
    "                print(\"Index of 1st red BG color:\",end_time_row_idx)\n",
    "                break\n",
    "    workbook.close()\n",
    "    return start_row_idx ,end_time_row_idx"
   ]
  },
  {
   "cell_type": "code",
   "execution_count": 3,
   "id": "dfc25424",
   "metadata": {},
   "outputs": [],
   "source": [
    "def dis2mm(dis_value):\n",
    "    return round(11/130*dis_value,3)"
   ]
  },
  {
   "cell_type": "code",
   "execution_count": null,
   "id": "7f8d73bb",
   "metadata": {},
   "outputs": [],
   "source": [
    "def get_groupID(file):\n",
    "    workbook = openpyxl.load_workbook(file)\n",
    "    worksheet = workbook['Setting']\n",
    "    if worksheet.cell(row=15, column=18).value == 1:\n",
    "        return 1\n",
    "    else:\n",
    "        return 2\n",
    "    \n",
    "def colorBYgroup():\n",
    "    odd_col_g1 = []\n",
    "    even_col_g1 = []\n",
    "    yellow_fill = PatternFill(start_color=\"9BC2E5\", end_color=\"9BC2E5\", fill_type=\"solid\")\n",
    "    for i in range (2,98,2):\n",
    "        odd_col_g1.append(i+1)\n",
    "        even_col_g1.append(i)  \n",
    "    del even_col_g1[24]\n",
    "\n",
    "    workbook = openpyxl.load_workbook('Dt_bf_5PM.xlsx')\n",
    "    for worksheet in ['Individual','Distance']:\n",
    "        sheet = workbook[worksheet]\n",
    "\n",
    "        if colorby[0] == 1:\n",
    "            print('first file well1 = G1')\n",
    "            for row in sheet.iter_rows():\n",
    "                for column_number, cell in enumerate(row, start=1):\n",
    "                    if column_number in even_col_g1 and cell.value is not None:\n",
    "                        # 如果单元格不为空，设置背景颜色为黄色\n",
    "                        cell.fill = yellow_fill\n",
    "\n",
    "        elif colorby[0] == 2:\n",
    "            print('first file well1 = G2')\n",
    "            for row in sheet.iter_rows():\n",
    "                for column_number, cell in enumerate(row, start=1):\n",
    "                    if column_number in even_col_g1 and cell.value is not None:\n",
    "                        # 如果单元格不为空，设置背景颜色为黄色\n",
    "                        cell.fill = yellow_fill    \n",
    "\n",
    "    workbook.save('Dt_bf_5PM.xlsx')\n",
    "    workbook.close()    \n",
    "    return 'coloring column DONE!!'"
   ]
  },
  {
   "cell_type": "markdown",
   "id": "2af778de",
   "metadata": {},
   "source": [
    "## step1： \n",
    "## get before red data from individual and distance\n",
    "## transform distance pixel value to mm value"
   ]
  },
  {
   "cell_type": "code",
   "execution_count": null,
   "id": "be30e1ed",
   "metadata": {},
   "outputs": [],
   "source": [
    "fullpath = os.getcwd()\n",
    "fileall = os.listdir(fullpath)\n",
    "if 'Dt_bf_5PM.xlsx' in fileall:\n",
    "    os.remove('Dt_bf_5PM.xlsx')\n",
    "    print('remove previous groupfile.xlsx')\n",
    "_nsre = re.compile('([0-9]+)')\n",
    "def natural_sort_key(s):\n",
    "    return [int(text) if text.isdigit() else text.lower()\n",
    "            for text in re.split(_nsre, s)]\n",
    "\n",
    "excelfile = []\n",
    "individual_nored_data = pd.DataFrame()\n",
    "distance_df = pd.DataFrame()\n",
    "colorby = []\n",
    "    \n",
    "for File in os.listdir(fullpath):\n",
    "        if File.endswith('.xlsm'):\n",
    "            #print(File)\n",
    "            excelfile.append(File)\n",
    "            \n",
    "for file in excelfile:       \n",
    "    print(\"data extracting from : \",file)\n",
    "\n",
    "    # openpyxl read colored cell, return the first colored time index\n",
    "    print('Individual data processing ---')\n",
    "    start_row_idx ,end_row_idx = get_color_row_idx(file)\n",
    "    individual = pd.read_excel(fullpath+'/'+file, sheet_name = 'Individual')\n",
    "    distance = pd.read_excel(fullpath+'/'+file, sheet_name = 'Distance')\n",
    "\n",
    "    individual_nored_data = pd.concat([individual_nored_data,individual.iloc[start_row_idx-2:end_row_idx-2,:]],axis = 1)\n",
    "    distance_val = distance.iloc[start_row_idx-2:end_row_idx-2,:]\n",
    "    \n",
    "    # set mm value round to two decimal places\n",
    "    \n",
    "    distance_val.columns = distance.iloc[48]\n",
    "    distance_val = distance_val.iloc[1:].reset_index(drop=True)\n",
    "    distance_val = distance_val.astype(float)\n",
    "    distance_val.iloc[:, 1:] = distance_val.iloc[:, 1:] *11/130\n",
    "    distance_val.iloc[:, 1:] = distance_val.iloc[:, 1:].round(2)\n",
    "    distance_df = pd.concat([distance_df,distance_val],axis = 1)\n",
    "    \n",
    "    # decide the grouping sequence of file \n",
    "    colorby.append(   get_groupID(file)   )\n",
    "    \n",
    "with pd.ExcelWriter(fullpath +'/Dt_bf_5PM.xlsx', engine = 'xlsxwriter') as writer:\n",
    "    \n",
    "    individual_nored_data.to_excel(writer ,sheet_name = 'Individual',index = False ,header = False)\n",
    "    distance_df.to_excel(writer ,sheet_name = 'Distance',index = False ,header = True)\n",
    "    \n",
    "    worksheet = writer.sheets['Individual']\n",
    "    worksheet.set_column(\"A:Z\", 10)\n"
   ]
  },
  {
   "cell_type": "markdown",
   "id": "9777926c",
   "metadata": {},
   "source": [
    "## Step 2 color columns by group ID, Group 1 are colored with blue background"
   ]
  },
  {
   "cell_type": "code",
   "execution_count": null,
   "id": "53035525",
   "metadata": {},
   "outputs": [],
   "source": [
    "colorBYgroup()"
   ]
  },
  {
   "cell_type": "code",
   "execution_count": null,
   "id": "2d62b204",
   "metadata": {},
   "outputs": [],
   "source": [
    "colorby"
   ]
  },
  {
   "cell_type": "markdown",
   "id": "e34812a5",
   "metadata": {},
   "source": [
    "## STEP 3: calculate each 30 mins data by fish_xx\n"
   ]
  },
  {
   "cell_type": "code",
   "execution_count": null,
   "id": "e5038819",
   "metadata": {},
   "outputs": [],
   "source": [
    "for worksheet in ['Individual','Distance']:\n",
    "    print('working on sheet:%s'%worksheet)\n",
    "    every30_df = []\n",
    "    cal_every30 = pd.DataFrame()\n",
    "    cal_total = pd.DataFrame()\n",
    "    groupA = [] # left group\n",
    "    groupB = [] # right group\n",
    "    totalA = []\n",
    "    totalB = []\n",
    "    df = pd.read_excel('Dt_bf_5PM.xlsx',sheet_name = worksheet)\n",
    "    \n",
    "    totalA = df.iloc[:,1:49].sum().round(2).tolist()\n",
    "    totalB = df.iloc[:,50:].sum().round(2).tolist()\n",
    "    \n",
    "    if colorby[0] == 1:\n",
    "        cal_total = pd.DataFrame({'WT_total':totalA,'A5_total':totalB})\n",
    "    elif colorby[0] == 2:\n",
    "        cal_total = pd.DataFrame({'WT_total':totalB,'A5_total':totalA})\n",
    "    cal_total = cal_total.set_index(df.columns[1:49])    \n",
    "    \n",
    "    for i in range (math.ceil(df.shape[0]/30)):\n",
    "        every30_df.append( (df.iloc[i*30:,:] if i == math.ceil(df.shape[0]/30) -1 else df.iloc[i*30:(i+1)*30,:] )  )\n",
    "    \n",
    "    for index, sub_df in enumerate(every30_df):\n",
    "        groupA = sub_df.iloc[:,1:49].sum().tolist()\n",
    "        groupB = sub_df.iloc[:,50:].sum().round(2).tolist()# correct\n",
    "        # group1 =WT, group2 = A5\n",
    "        if colorby[0] == 1:\n",
    "            cal_30 = pd.DataFrame({'WT_%sto%s'%(index*30,(index+1)*30):groupA,'A5_%sto%s'%(index*30,(index+1)*30):groupB})\n",
    "            \n",
    "        elif colorby[0] == 2:\n",
    "            cal_30 = pd.DataFrame({'WT_%sto%s'%(index*30,(index+1)*30):groupB,'A5_%sto%s'%(index*30,(index+1)*30):groupA})\n",
    "            \n",
    "            \n",
    "        cal_30 = cal_30.set_index(df.columns[1:49])\n",
    "        cal_every30 = pd.concat([cal_every30,cal_30],axis = 1)\n",
    "    \n",
    "    cal_total = pd.concat([cal_every30,cal_total],axis = 1)\n",
    "    \n",
    "    # calculate mean and SEM for the total dataframe\n",
    "    column_means = cal_total.mean()\n",
    "    sem_result = cal_total.sem()\n",
    "    cal_total.loc['Group Mean'] = column_means\n",
    "    cal_total.loc['Group SEM'] = sem_result\n",
    "    \n",
    "    with pd.ExcelWriter('Dt_bf_5PM.xlsx', mode='a', engine='openpyxl') as writer:\n",
    "        cal_total.to_excel(writer, sheet_name='%s_SUM30min'%worksheet, index=True)"
   ]
  },
  {
   "cell_type": "code",
   "execution_count": null,
   "id": "8fc7684b",
   "metadata": {},
   "outputs": [],
   "source": []
  },
  {
   "cell_type": "code",
   "execution_count": null,
   "id": "e43da8b5",
   "metadata": {},
   "outputs": [],
   "source": []
  }
 ],
 "metadata": {
  "kernelspec": {
   "display_name": "Python 3 (ipykernel)",
   "language": "python",
   "name": "python3"
  },
  "language_info": {
   "codemirror_mode": {
    "name": "ipython",
    "version": 3
   },
   "file_extension": ".py",
   "mimetype": "text/x-python",
   "name": "python",
   "nbconvert_exporter": "python",
   "pygments_lexer": "ipython3",
   "version": "3.8.17"
  }
 },
 "nbformat": 4,
 "nbformat_minor": 5
}

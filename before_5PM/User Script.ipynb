{
 "cells": [
  {
   "cell_type": "code",
   "execution_count": 3,
   "id": "a2dcd2f9",
   "metadata": {},
   "outputs": [
    {
     "name": "stdout",
     "output_type": "stream",
     "text": [
      "remove previous groupfile.xlsx\n",
      "data extracting from :  TrackingData_Template_v5.7b_2023_group1_Alctreat_0.05%.xlsm\n",
      "Individual data processing ---\n",
      "Time(min) start: 50\n",
      "Index of 1st red BG color: 157\n",
      "data extracting from :  TrackingData_Template_v5.7b_2023_group2_Alctreat_0.05%.xlsm\n",
      "Individual data processing ---\n"
     ]
    },
    {
     "name": "stderr",
     "output_type": "stream",
     "text": [
      "H:\\Anaconda3_2021\\anaconda\\lib\\site-packages\\openpyxl\\worksheet\\header_footer.py:48: UserWarning: Cannot parse header or footer so it will be ignored\n",
      "  warn(\"\"\"Cannot parse header or footer so it will be ignored\"\"\")\n"
     ]
    },
    {
     "name": "stdout",
     "output_type": "stream",
     "text": [
      "Time(min) start: 50\n",
      "Index of 1st red BG color: 198\n"
     ]
    },
    {
     "name": "stderr",
     "output_type": "stream",
     "text": [
      "H:\\Anaconda3_2021\\anaconda\\lib\\site-packages\\openpyxl\\worksheet\\header_footer.py:48: UserWarning: Cannot parse header or footer so it will be ignored\n",
      "  warn(\"\"\"Cannot parse header or footer so it will be ignored\"\"\")\n"
     ]
    },
    {
     "name": "stdout",
     "output_type": "stream",
     "text": [
      "first file well1 = G1\n",
      "first file well1 = G1\n",
      "working on sheet:Individual\n",
      "working on sheet:Distance\n"
     ]
    }
   ],
   "source": [
    "import before_5PM"
   ]
  },
  {
   "cell_type": "code",
   "execution_count": null,
   "id": "19c723d2",
   "metadata": {},
   "outputs": [],
   "source": []
  }
 ],
 "metadata": {
  "kernelspec": {
   "display_name": "Python 3 (ipykernel)",
   "language": "python",
   "name": "python3"
  },
  "language_info": {
   "codemirror_mode": {
    "name": "ipython",
    "version": 3
   },
   "file_extension": ".py",
   "mimetype": "text/x-python",
   "name": "python",
   "nbconvert_exporter": "python",
   "pygments_lexer": "ipython3",
   "version": "3.8.17"
  }
 },
 "nbformat": 4,
 "nbformat_minor": 5
}

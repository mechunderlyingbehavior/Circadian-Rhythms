{
 "cells": [
  {
   "cell_type": "code",
   "execution_count": 1,
   "id": "296dd704",
   "metadata": {},
   "outputs": [],
   "source": [
    "import os, shutil, re, csv, openpyxl, math\n",
    "import pandas as pd\n",
    "import numpy as np\n",
    "from openpyxl.styles import PatternFill"
   ]
  },
  {
   "cell_type": "code",
   "execution_count": 2,
   "id": "8c5ec545",
   "metadata": {},
   "outputs": [],
   "source": [
    "def get_color_row_idx(file):\n",
    "    workbook = openpyxl.load_workbook(file)\n",
    "    worksheet = workbook['Individual']\n",
    "    start_col_idx = 0\n",
    "    total_col = worksheet.max_column # 48columns need to be extracted\n",
    "    color_map = openpyxl.styles.colors.COLOR_INDEX\n",
    "    \n",
    "    for cell in worksheet['A']:\n",
    "        if cell.value == 'Time(min)':\n",
    "            start_row_idx = cell.row\n",
    "            print(\"Time(min) start:\",start_row_idx) # group1.xlsm shoud be : 50\n",
    "    for column1 in worksheet.iter_cols(min_col=start_col_idx, max_col = start_col_idx+1, min_row =start_row_idx+1 ):\n",
    "        for cell in column1:\n",
    "            color_index = cell.fill.start_color.index\n",
    "            rgb = color_map[int(color_index)]\n",
    "            if rgb == '00FF0000':\n",
    "                end_time_row_idx = cell.row\n",
    "                print(\"Index of 1st red BG color:\",end_time_row_idx)\n",
    "                break\n",
    "    workbook.close()\n",
    "    return start_row_idx ,end_time_row_idx"
   ]
  },
  {
   "cell_type": "code",
   "execution_count": 3,
   "id": "dfc25424",
   "metadata": {},
   "outputs": [],
   "source": [
    "def dis2mm(dis_value):\n",
    "    return round(11/130*dis_value,3)"
   ]
  },
  {
   "cell_type": "code",
   "execution_count": 4,
   "id": "7f8d73bb",
   "metadata": {},
   "outputs": [],
   "source": [
    "def get_groupID(file):\n",
    "    workbook = openpyxl.load_workbook(file)\n",
    "    worksheet = workbook['Setting']\n",
    "    if worksheet.cell(row=15, column=18).value == 1:\n",
    "        return 1\n",
    "    else:\n",
    "        return 2\n",
    "    \n",
    "def colorBYgroup():\n",
    "    odd_col_g1 = []\n",
    "    even_col_g1 = []\n",
    "    yellow_fill = PatternFill(start_color=\"9BC2E5\", end_color=\"9BC2E5\", fill_type=\"solid\")\n",
    "    for i in range (2,99,2):\n",
    "        odd_col_g1.append(i+1)\n",
    "        even_col_g1.append(i)  \n",
    "    del even_col_g1[24]\n",
    "    \n",
    "    for wb in ['Dt_bf_5PM.xlsx','DT_10halfto1PM.xlsx']:\n",
    "        workbook = openpyxl.load_workbook(wb)\n",
    "        for worksheet in ['Individual','Distance']:\n",
    "            sheet = workbook[worksheet]\n",
    "\n",
    "            if colorby[0] == 1:\n",
    "                print('first file well1 = G1')\n",
    "                for row in sheet.iter_rows():\n",
    "                    for column_number, cell in enumerate(row, start=1):\n",
    "                        if column_number in even_col_g1 and cell.value is not None:\n",
    "                            # 如果单元格不为空，设置背景颜色为黄色\n",
    "                            cell.fill = yellow_fill\n",
    "\n",
    "            elif colorby[0] == 2:\n",
    "                print('first file well1 = G2')\n",
    "                for row in sheet.iter_rows():\n",
    "                    for column_number, cell in enumerate(row, start=1):\n",
    "                        if column_number in even_col_g1 and cell.value is not None:\n",
    "                            # 如果单元格不为空，设置背景颜色为黄色\n",
    "                            cell.fill = yellow_fill    \n",
    "\n",
    "        workbook.save(wb)\n",
    "        workbook.close()    \n",
    "    return 'coloring column DONE!!'"
   ]
  },
  {
   "cell_type": "markdown",
   "id": "2af778de",
   "metadata": {},
   "source": [
    "## step1： \n",
    "## get before red data from individual and distance\n",
    "## transform distance pixel value to mm value"
   ]
  },
  {
   "cell_type": "code",
   "execution_count": 5,
   "id": "68e55b07",
   "metadata": {},
   "outputs": [
    {
     "name": "stdout",
     "output_type": "stream",
     "text": [
      "remove previous groupfile.xlsx\n"
     ]
    }
   ],
   "source": [
    "fullpath = os.getcwd()\n",
    "fileall = os.listdir(fullpath)\n",
    "if 'Dt_bf_5PM.xlsx' in fileall:\n",
    "    os.remove('Dt_bf_5PM.xlsx')\n",
    "    os.remove('DT_10halfto1PM.xlsx')\n",
    "    print('remove previous groupfile.xlsx')\n",
    "excelfile = []\n",
    "individual_nored_data = pd.DataFrame()\n",
    "distance_df = pd.DataFrame()\n",
    "colorby = []\n",
    "    \n",
    "for File in os.listdir(fullpath):\n",
    "        if File.endswith('.xlsm'):\n",
    "            #print(File)\n",
    "            excelfile.append(File)"
   ]
  },
  {
   "cell_type": "code",
   "execution_count": 6,
   "id": "be30e1ed",
   "metadata": {},
   "outputs": [
    {
     "name": "stdout",
     "output_type": "stream",
     "text": [
      "data extracting from :  TrackingData_Template_v5.7b_2023_group1_Alctreat_0.05%.xlsm\n",
      "Individual data processing ---\n",
      "Time(min) start: 50\n",
      "Index of 1st red BG color: 157\n",
      "data extracting from :  TrackingData_Template_v5.7b_2023_group2_Alctreat_0.05%.xlsm\n",
      "Individual data processing ---\n"
     ]
    },
    {
     "name": "stderr",
     "output_type": "stream",
     "text": [
      "H:\\Anaconda3_2021\\anaconda\\lib\\site-packages\\openpyxl\\worksheet\\header_footer.py:48: UserWarning: Cannot parse header or footer so it will be ignored\n",
      "  warn(\"\"\"Cannot parse header or footer so it will be ignored\"\"\")\n"
     ]
    },
    {
     "name": "stdout",
     "output_type": "stream",
     "text": [
      "Time(min) start: 50\n",
      "Index of 1st red BG color: 198\n"
     ]
    },
    {
     "name": "stderr",
     "output_type": "stream",
     "text": [
      "H:\\Anaconda3_2021\\anaconda\\lib\\site-packages\\openpyxl\\worksheet\\header_footer.py:48: UserWarning: Cannot parse header or footer so it will be ignored\n",
      "  warn(\"\"\"Cannot parse header or footer so it will be ignored\"\"\")\n"
     ]
    }
   ],
   "source": [
    "start_row_idx = []\n",
    "end_row_idx = []            \n",
    "for file in excelfile:       \n",
    "    print(\"data extracting from : \",file)\n",
    "\n",
    "    # openpyxl read colored cell, return the first colored time index\n",
    "    print('Individual data processing ---')\n",
    "    start_idx ,end_idx = get_color_row_idx(file)\n",
    "    start_row_idx.append(start_idx)\n",
    "    end_row_idx.append(end_idx)\n",
    "    \n",
    "    ## read file\n",
    "    individual = pd.read_excel(fullpath+'/'+file, sheet_name = 'Individual')\n",
    "    distance = pd.read_excel(fullpath+'/'+file, sheet_name = 'Distance')\n",
    "\n",
    "    individual_nored_data = pd.concat([individual_nored_data,individual.iloc[start_idx-2:end_idx-2,:]],axis = 1)\n",
    "    distance_val = distance.iloc[start_idx-2:end_idx-2,:]\n",
    "    \n",
    "    # set mm value round to two decimal places\n",
    "    \n",
    "    distance_val.columns = distance.iloc[48]\n",
    "    distance_val = distance_val.iloc[1:].reset_index(drop=True)\n",
    "    distance_val = distance_val.astype(float)\n",
    "    distance_val.iloc[:, 1:] = distance_val.iloc[:, 1:] *11/130\n",
    "    distance_val.iloc[:, 1:] = distance_val.iloc[:, 1:].round(2)\n",
    "    distance_df = pd.concat([distance_df,distance_val],axis = 1)\n",
    "    \n",
    "    # decide the grouping sequence of file \n",
    "    colorby.append(   get_groupID(file)   )\n",
    "    \n",
    "with pd.ExcelWriter(fullpath +'/Dt_bf_5PM.xlsx', engine = 'xlsxwriter') as writer:\n",
    "    \n",
    "    individual_nored_data.to_excel(writer ,sheet_name = 'Individual',index = False ,header = False)\n",
    "    distance_df.to_excel(writer ,sheet_name = 'Distance',index = False ,header = True)\n",
    "    \n",
    "    worksheet = writer.sheets['Individual']\n",
    "    worksheet.set_column(\"A:Z\", 10)\n"
   ]
  },
  {
   "cell_type": "code",
   "execution_count": null,
   "id": "61553fb4",
   "metadata": {},
   "outputs": [],
   "source": []
  },
  {
   "cell_type": "code",
   "execution_count": 7,
   "id": "9bafc657",
   "metadata": {},
   "outputs": [
    {
     "name": "stdout",
     "output_type": "stream",
     "text": [
      "TrackingData_Template_v5.7b_2023_group1_Alctreat_0.05%.xlsm\n",
      "50\n",
      "48 Time(min) Fish-01 Fish-02 Fish-03 Fish-04 Fish-05 Fish-06 Fish-07 Fish-08  \\\n",
      "0        407      49      42      50      44      41      22      49      41   \n",
      "1        408      49      34      57      47      49      41      52      51   \n",
      "\n",
      "48 Fish-09  ... Fish-39 Fish-40 Fish-41 Fish-42 Fish-43 Fish-44 Fish-45  \\\n",
      "0       35  ...      53      51      41      53      31      52       0   \n",
      "1       57  ...      44      53      41      47      49      48       0   \n",
      "\n",
      "48 Fish-46 Fish-47 Fish-48  \n",
      "0       36      41      51  \n",
      "1       53      48      52  \n",
      "\n",
      "[2 rows x 49 columns]\n",
      "TrackingData_Template_v5.7b_2023_group2_Alctreat_0.05%.xlsm\n",
      "50\n",
      "48 Time(min) Fish-01 Fish-02 Fish-03 Fish-04 Fish-05 Fish-06 Fish-07 Fish-08  \\\n",
      "0        448      34      29      39      15      19       0      16      44   \n",
      "1        449      55      33      42      47      60       0      48      49   \n",
      "\n",
      "48 Fish-09  ... Fish-39 Fish-40 Fish-41 Fish-42 Fish-43 Fish-44 Fish-45  \\\n",
      "0       28  ...      30      41      46      37      38      24      49   \n",
      "1       54  ...      57      55      48      34      42      43      55   \n",
      "\n",
      "48 Fish-46 Fish-47 Fish-48  \n",
      "0       35      25      36  \n",
      "1       56      49      53  \n",
      "\n",
      "[2 rows x 49 columns]\n"
     ]
    },
    {
     "name": "stderr",
     "output_type": "stream",
     "text": [
      "H:\\Anaconda3_2021\\anaconda\\lib\\site-packages\\openpyxl\\worksheet\\header_footer.py:48: UserWarning: Cannot parse header or footer so it will be ignored\n",
      "  warn(\"\"\"Cannot parse header or footer so it will be ignored\"\"\")\n"
     ]
    },
    {
     "name": "stdout",
     "output_type": "stream",
     "text": [
      "writing data to new excel\n"
     ]
    }
   ],
   "source": [
    "individual_nored_data = pd.DataFrame()\n",
    "distance_df = pd.DataFrame()\n",
    "loop = 0\n",
    "for file in excelfile:\n",
    "    print(file)\n",
    "    individual = pd.read_excel(fullpath+'/'+file, sheet_name = 'Individual' )\n",
    "    distance = pd.read_excel(fullpath+'/'+file, sheet_name = 'Distance' )\n",
    "    print(start_row_idx[loop])\n",
    "    header = individual.iloc[start_row_idx[loop]-2,:]\n",
    "    \n",
    "    start_10half_idx = end_row_idx[loop] +300-2\n",
    "    end_1pm_idx = start_10half_idx+150\n",
    "    \n",
    "    loop += 1\n",
    "    \n",
    "    individual_10to1 = individual.iloc[start_10half_idx:end_1pm_idx, :]\n",
    "    distance_10to1 = distance.iloc[start_10half_idx:end_1pm_idx,:]\n",
    "    individual_10to1.columns = header\n",
    "    distance_10to1.columns = header\n",
    "    individual_10to1 = individual_10to1.reset_index(drop= True)\n",
    "    distance_10to1 = distance_10to1.reset_index(drop= True)\n",
    "    \n",
    "    print(individual_10to1.head(2))\n",
    "    \n",
    "    individual_nored_data = pd.concat([individual_nored_data,individual_10to1],axis = 1)\n",
    "    #distance_val = distance.iloc[start_row_idx-2:end_row_idx-2,:]\n",
    "    \n",
    "    # set mm value round to two decimal places\n",
    "    #distance_10to1 = distance_10to1.iloc[1:].reset_index(drop=True)\n",
    "    distance_10to1 = distance_10to1.astype(float)\n",
    "    distance_10to1.iloc[:, 1:] = distance_10to1.iloc[:, 1:] *11/130\n",
    "    distance_10to1.iloc[:, 1:] = distance_10to1.iloc[:, 1:].round(2)\n",
    "    distance_df = pd.concat([distance_df,distance_10to1],axis = 1)\n",
    "    \n",
    "    # decide the grouping sequence of file \n",
    "    colorby.append(   get_groupID(file)   )\n",
    "    \n",
    "with pd.ExcelWriter(fullpath +'/DT_10halfto1PM.xlsx', engine = 'xlsxwriter') as writer:\n",
    "    print('writing data to new excel')\n",
    "    individual_nored_data.to_excel(writer ,sheet_name = 'Individual',index = False ,header = True)\n",
    "    distance_df.to_excel(writer ,sheet_name = 'Distance',index = False ,header = True)\n",
    "    \n",
    "    worksheet = writer.sheets['Individual']\n",
    "    worksheet.set_column(\"A:CT\", 10)\n",
    "    worksheet = writer.sheets['Distance']\n",
    "    worksheet.set_column(\"A:CT\", 10)    \n",
    "    "
   ]
  },
  {
   "cell_type": "code",
   "execution_count": null,
   "id": "656b7f58",
   "metadata": {},
   "outputs": [],
   "source": []
  },
  {
   "cell_type": "markdown",
   "id": "9777926c",
   "metadata": {},
   "source": [
    "## Step 2 color columns by group ID, Group 1 are colored with blue background"
   ]
  },
  {
   "cell_type": "code",
   "execution_count": 8,
   "id": "53035525",
   "metadata": {},
   "outputs": [
    {
     "name": "stdout",
     "output_type": "stream",
     "text": [
      "first file well1 = G1\n",
      "first file well1 = G1\n",
      "first file well1 = G1\n",
      "first file well1 = G1\n"
     ]
    },
    {
     "data": {
      "text/plain": [
       "'coloring column DONE!!'"
      ]
     },
     "execution_count": 8,
     "metadata": {},
     "output_type": "execute_result"
    }
   ],
   "source": [
    "colorBYgroup()"
   ]
  },
  {
   "cell_type": "markdown",
   "id": "e34812a5",
   "metadata": {},
   "source": [
    "## STEP 3: calculate each 30 mins data by fish_xx\n"
   ]
  },
  {
   "cell_type": "markdown",
   "id": "180848c5",
   "metadata": {},
   "source": [
    "Data before 5PM "
   ]
  },
  {
   "cell_type": "code",
   "execution_count": 9,
   "id": "bcb97b34",
   "metadata": {},
   "outputs": [],
   "source": [
    "def sum_data_grouping(A,B,FLAG=1):\n",
    "    WT_col = []\n",
    "    A5_col= []\n",
    "    \n",
    "    if FLAG ==1:\n",
    "        for i in range(min(len(A), len(B))):\n",
    "            if i % 2 == 0:  \n",
    "                WT_col.append(A[i])\n",
    "                A5_col.append(B[i])\n",
    "            else:\n",
    "                WT_col.append(B[i])\n",
    "                A5_col.append(A[i])\n",
    "    elif FLAG ==2:\n",
    "        for i in range(min(len(A), len(B))):\n",
    "            if i % 2 == 0:  # 如果索引是偶数\n",
    "                WT_col.append(B[i])\n",
    "                A5_col.append(A[i])\n",
    "            else:\n",
    "                WT_col.append(A[i])\n",
    "                A5_col.append(B[i])        \n",
    "    return WT_col , A5_col"
   ]
  },
  {
   "cell_type": "code",
   "execution_count": 10,
   "id": "e5038819",
   "metadata": {},
   "outputs": [
    {
     "name": "stdout",
     "output_type": "stream",
     "text": [
      "working on sheet:Individual\n",
      "106 1\n",
      "this is the 4 part of interval column\n",
      "new sheet writing\n",
      "working on sheet:Distance\n",
      "106 1\n",
      "this is the 4 part of interval column\n",
      "new sheet writing\n",
      "DONE!!\n"
     ]
    }
   ],
   "source": [
    "for worksheet in ['Individual','Distance']:\n",
    "    print('working on sheet:%s'%worksheet)\n",
    "    every30_df = []\n",
    "    cal_every30 = pd.DataFrame()\n",
    "    cal_total = pd.DataFrame()\n",
    "    groupA = [] # left group\n",
    "    groupB = [] # right group\n",
    "    totalA = []\n",
    "    totalB = []\n",
    "    df = pd.read_excel('Dt_bf_5PM.xlsx',sheet_name = worksheet)\n",
    "\n",
    "    ## calculate total by minimun row\n",
    "    nan_row_idx = np.where(np.isnan(df))[0][0] # return the first row where NAN appear\n",
    "    nan_col_idx = np.where(np.isnan(df))[1][1]\n",
    "    print(nan_row_idx,nan_col_idx )  # 106\n",
    "    df_min = df.iloc[:nan_row_idx]\n",
    "    totalA = df_min.iloc[:,1:49].sum().round(2).tolist()\n",
    "    totalB = df_min.iloc[:,50:].sum().round(2).tolist()    \n",
    "    \n",
    "    if colorby[0] == 1:\n",
    "        WT_total , A5_total = sum_data_grouping(totalA, totalB, 1)\n",
    "\n",
    "    elif colorby[0] == 2:\n",
    "        WT_total , A5_total = sum_data_grouping(totalA, totalB, 2)\n",
    "    \n",
    "    cal_total = pd.DataFrame({'WT_total':totalA,'A5_total':totalB})\n",
    "    cal_total = cal_total.set_index(df.columns[1:49])    \n",
    "    \n",
    "    for i in range (math.ceil(df.shape[0]/30)):\n",
    "        every30_df.append( (df.iloc[i*30:,:] if i == math.ceil(df.shape[0]/30) -1 else df.iloc[i*30:(i+1)*30,:] )  )\n",
    "        if nan_row_idx >i*30 and nan_row_idx <(i+1)*30:\n",
    "            print('this is the %s part of interval column'%(i+1))\n",
    "            colored_flg = i+1  # record the column that need to be colored\n",
    "            \n",
    "            \n",
    "    for index, sub_df in enumerate(every30_df):\n",
    "        groupA = sub_df.iloc[:,1:49].sum().tolist()\n",
    "        groupB = sub_df.iloc[:,50:].sum().round(2).tolist()# correct\n",
    "        # group1 =WT, group2 = A5\n",
    "        if colorby[0] == 1:\n",
    "            WT_col , A5_col = sum_data_grouping(groupA, groupB, 1)\n",
    "            \n",
    "        elif colorby[0] == 2:\n",
    "            WT_col , A5_col = sum_data_grouping(groupA, groupB, 2)\n",
    "            \n",
    "            \n",
    "        cal_30 = pd.DataFrame({'WT_%sto%s'%(index*30,(index+1)*30):WT_col,'A5_%sto%s'%(index*30,(index+1)*30):A5_col})\n",
    "        cal_30 = cal_30.set_index(df.columns[1:49])\n",
    "        cal_every30 = pd.concat([cal_every30,cal_30],axis = 1)\n",
    "    \n",
    "    cal_total = pd.concat([cal_every30,cal_total],axis = 1)\n",
    "    \n",
    "    # calculate mean and SEM for the total dataframe\n",
    "    column_means = cal_total.mean()\n",
    "    sem_result = cal_total.sem()\n",
    "    cal_total.loc['Group Mean'] = column_means\n",
    "    cal_total.loc['Group SEM'] = sem_result\n",
    "    \n",
    "    with pd.ExcelWriter('Dt_bf_5PM.xlsx', mode='a', engine='openpyxl') as writer:\n",
    "        cal_total.to_excel(writer, sheet_name='%s_SUM30min'%worksheet, index=True)\n",
    "        print('new sheet writing')\n",
    "print('DONE!!')"
   ]
  },
  {
   "cell_type": "code",
   "execution_count": 11,
   "id": "653c1f59",
   "metadata": {},
   "outputs": [],
   "source": [
    "## color the mini-interval data"
   ]
  },
  {
   "cell_type": "code",
   "execution_count": 12,
   "id": "e952dc9c",
   "metadata": {},
   "outputs": [],
   "source": [
    "workbook = openpyxl.load_workbook('Dt_bf_5PM.xlsx')\n",
    "yellow_fill = PatternFill(start_color=\"FFFF00\", end_color=\"FFFF00\", fill_type=\"solid\")\n",
    "# 选择要操作的工作表（sheet）\n",
    "for wb in ['Individual_SUM30min','Distance_SUM30min']:\n",
    "    sheet = workbook[wb]\n",
    "\n",
    "    # 遍历第八列和第九列的单元格，根据条件填充颜色\n",
    "    for row in sheet.iter_rows(min_row=2, max_row=sheet.max_row-2, min_col=colored_flg*2, max_col=colored_flg*2+1):\n",
    "        for cell in row:\n",
    "            if colorby[0]==1:\n",
    "                if cell.row %2 ==0 and cell.column == colored_flg*2:\n",
    "                    cell.fill = yellow_fill\n",
    "                elif cell.row %2 !=0 and cell.column == colored_flg*2+1:\n",
    "                    cell.fill = yellow_fill\n",
    "                    \n",
    "            elif colorby[0]==2:\n",
    "                if cell.row %2 ==0 and cell.column == colored_flg*2+1:\n",
    "                    cell.fill = yellow_fill\n",
    "\n",
    "                elif cell.row %2 !=0 and cell.column == colored_flg*2:\n",
    "                    cell.fill = yellow_fill\n",
    "                  \n",
    "\n",
    "\n",
    "workbook.save('Dt_bf_5PM.xlsx')"
   ]
  },
  {
   "cell_type": "markdown",
   "id": "70e58ba3",
   "metadata": {},
   "source": [
    "Data between 10:30PM to 1PM"
   ]
  },
  {
   "cell_type": "code",
   "execution_count": 13,
   "id": "7c3eb57b",
   "metadata": {},
   "outputs": [
    {
     "name": "stdout",
     "output_type": "stream",
     "text": [
      "working on sheet:Individual\n",
      "working on sheet:Distance\n",
      "DONE!!\n"
     ]
    }
   ],
   "source": [
    "for worksheet in ['Individual','Distance']:\n",
    "    print('working on sheet:%s'%worksheet)\n",
    "    every30_df = []\n",
    "    cal_every30 = pd.DataFrame()\n",
    "    cal_total = pd.DataFrame()\n",
    "    groupA = [] # left group\n",
    "    groupB = [] # right group\n",
    "    totalA = []\n",
    "    totalB = []\n",
    "    df = pd.read_excel('DT_10halfto1PM.xlsx',sheet_name = worksheet)\n",
    "\n",
    "    \n",
    "    ## calculate total by minimun row\n",
    "\n",
    "    totalA = df.iloc[:,1:49].sum().round(2).tolist()\n",
    "    totalB = df.iloc[:,50:].sum().round(2).tolist()    \n",
    "    \n",
    "    if colorby[0] == 1:\n",
    "        WT_total , A5_total = sum_data_grouping(totalA, totalB, 1)\n",
    "    elif colorby[0] == 2:\n",
    "        WT_total , A5_total = sum_data_grouping(totalA, totalB, 2)\n",
    "    \n",
    "    cal_total = pd.DataFrame({'WT_total':WT_total,'A5_total':A5_total})\n",
    "    cal_total = cal_total.set_index(df.columns[1:49])    \n",
    "    \n",
    "    for i in range (math.ceil(df.shape[0]/30)):\n",
    "        every30_df.append( (df.iloc[i*30:,:] if i == math.ceil(df.shape[0]/30) -1 else df.iloc[i*30:(i+1)*30,:] )  )\n",
    "    \n",
    "    for index, sub_df in enumerate(every30_df):\n",
    "        groupA = sub_df.iloc[:,1:49].sum().tolist()\n",
    "        groupB = sub_df.iloc[:,50:].sum().round(2).tolist()# correct\n",
    "\n",
    "        # group1 =WT, group2 = A5\n",
    "        if colorby[0] == 1:\n",
    "            WT_col , A5_col = sum_data_grouping(groupA, groupB, 1)\n",
    "            \n",
    "        elif colorby[0] == 2:\n",
    "            WT_col , A5_col = sum_data_grouping(groupA, groupB, 2)\n",
    "                    \n",
    "        cal_30 = pd.DataFrame({'WT_%sto%s'%(index*30,(index+1)*30): WT_col ,'A5_%sto%s'%(index*30,(index+1)*30): A5_col})  \n",
    "        cal_30 = cal_30.set_index(df.columns[1:49])\n",
    "        cal_every30 = pd.concat([cal_every30,cal_30],axis = 1)\n",
    "    \n",
    "    cal_total = pd.concat([cal_every30,cal_total],axis = 1)\n",
    "    \n",
    "    # calculate mean and SEM for the total dataframe\n",
    "    column_means = cal_total.mean()\n",
    "    sem_result = cal_total.sem()\n",
    "    cal_total.loc['Group Mean'] = column_means\n",
    "    cal_total.loc['Group SEM'] = sem_result\n",
    "    \n",
    "    with pd.ExcelWriter('DT_10halfto1PM.xlsx', mode='a', engine='openpyxl') as writer:\n",
    "        cal_total.to_excel(writer, sheet_name='%s_SUM30min'%worksheet, index=True)\n",
    "        \n",
    "print('DONE!!')"
   ]
  },
  {
   "cell_type": "code",
   "execution_count": null,
   "id": "33bb28dd",
   "metadata": {},
   "outputs": [],
   "source": []
  },
  {
   "cell_type": "code",
   "execution_count": null,
   "id": "85d9f8c6",
   "metadata": {},
   "outputs": [],
   "source": []
  },
  {
   "cell_type": "code",
   "execution_count": null,
   "id": "f4173f70",
   "metadata": {},
   "outputs": [],
   "source": []
  },
  {
   "cell_type": "code",
   "execution_count": null,
   "id": "09c26a68",
   "metadata": {},
   "outputs": [],
   "source": []
  },
  {
   "cell_type": "code",
   "execution_count": null,
   "id": "040c903a",
   "metadata": {},
   "outputs": [],
   "source": []
  },
  {
   "cell_type": "code",
   "execution_count": null,
   "id": "3e149d16",
   "metadata": {},
   "outputs": [],
   "source": []
  },
  {
   "cell_type": "code",
   "execution_count": null,
   "id": "68654383",
   "metadata": {},
   "outputs": [],
   "source": []
  }
 ],
 "metadata": {
  "kernelspec": {
   "display_name": "Python 3 (ipykernel)",
   "language": "python",
   "name": "python3"
  },
  "language_info": {
   "codemirror_mode": {
    "name": "ipython",
    "version": 3
   },
   "file_extension": ".py",
   "mimetype": "text/x-python",
   "name": "python",
   "nbconvert_exporter": "python",
   "pygments_lexer": "ipython3",
   "version": "3.8.17"
  }
 },
 "nbformat": 4,
 "nbformat_minor": 5
}

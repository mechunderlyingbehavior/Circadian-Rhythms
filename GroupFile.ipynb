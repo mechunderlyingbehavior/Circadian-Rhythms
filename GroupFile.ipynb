{
 "cells": [
  {
   "cell_type": "code",
   "execution_count": 1,
   "id": "d16e8448",
   "metadata": {},
   "outputs": [],
   "source": [
    "from nptdms import TdmsFile\n",
    "import os, shutil, re, csv\n",
    "import pandas as pd\n",
    "import numpy as np\n",
    "import openpyxl"
   ]
  },
  {
   "cell_type": "code",
   "execution_count": 2,
   "id": "cc23a339",
   "metadata": {},
   "outputs": [],
   "source": [
    "def get_color_row_idx(file):\n",
    "    workbook = openpyxl.load_workbook(file)\n",
    "    worksheet = workbook['Individual']\n",
    "    start_col_idx = 0\n",
    "    total_col = worksheet.max_column # 48columns need to be extracted\n",
    "    color_map = openpyxl.styles.colors.COLOR_INDEX\n",
    "    \n",
    "    for cell in worksheet['A']:\n",
    "        if cell.value == 'Time(min)':\n",
    "            start_row_idx = cell.row\n",
    "            print(\"Time(min) start:\",start_row_idx) # group1.xlsm shoud be : 50\n",
    "    for column1 in worksheet.iter_cols(min_col=start_col_idx, max_col = start_col_idx+1, min_row =start_row_idx+1 ):\n",
    "        for cell in column1:\n",
    "            color_index = cell.fill.start_color.index\n",
    "            rgb = color_map[int(color_index)]\n",
    "            if rgb == '00FF0000':\n",
    "                end_time_row_idx = cell.row\n",
    "                print(\"Index of 1st red BG color:\",end_time_row_idx)\n",
    "                break\n",
    "    workbook.close()\n",
    "    return start_row_idx ,end_time_row_idx"
   ]
  },
  {
   "cell_type": "code",
   "execution_count": 3,
   "id": "162901ae",
   "metadata": {},
   "outputs": [
    {
     "name": "stdout",
     "output_type": "stream",
     "text": [
      "remove previous groupfile.xlsx\n",
      "data extracting from :  TrackingData_Template_v5.7b_2023_group1_Alctreat_0.05%.xlsm\n",
      "Individual data processing ---\n",
      "Time(min) start: 50\n",
      "Index of 1st red BG color: 157\n",
      "6 Cycles data processing---\n",
      "Sleep Bouts data processing---\n",
      "groupcount data processing---\n",
      "data extracting from :  TrackingData_Template_v5.7b_2023_group2_Alctreat_0.05%.xlsm\n",
      "Individual data processing ---\n"
     ]
    },
    {
     "name": "stderr",
     "output_type": "stream",
     "text": [
      "H:\\Anaconda3_2021\\anaconda\\lib\\site-packages\\openpyxl\\worksheet\\header_footer.py:48: UserWarning: Cannot parse header or footer so it will be ignored\n",
      "  warn(\"\"\"Cannot parse header or footer so it will be ignored\"\"\")\n"
     ]
    },
    {
     "name": "stdout",
     "output_type": "stream",
     "text": [
      "Time(min) start: 50\n",
      "Index of 1st red BG color: 198\n",
      "6 Cycles data processing---\n",
      "Sleep Bouts data processing---\n",
      "groupcount data processing---\n",
      "Grouping DONE!\n"
     ]
    },
    {
     "name": "stderr",
     "output_type": "stream",
     "text": [
      "C:\\Users\\12\\AppData\\Local\\Temp\\ipykernel_15848\\4162015670.py:85: FutureWarning: save is not part of the public API, usage can give unexpected results and will be removed in a future version\n",
      "  writer.save()\n",
      "H:\\Anaconda3_2021\\anaconda\\lib\\site-packages\\xlsxwriter\\workbook.py:339: UserWarning: Calling close() on already closed file.\n",
      "  warn(\"Calling close() on already closed file.\")\n"
     ]
    }
   ],
   "source": [
    "fullpath = os.getcwd()\n",
    "fileall = os.listdir(fullpath)\n",
    "if 'groupfile.xlsx' in fileall:\n",
    "    os.remove('groupfile.xlsx')\n",
    "    print('remove previous groupfile.xlsx')\n",
    "_nsre = re.compile('([0-9]+)')\n",
    "def natural_sort_key(s):\n",
    "    return [int(text) if text.isdigit() else text.lower()\n",
    "            for text in re.split(_nsre, s)]\n",
    "\n",
    "excelfile = []\n",
    "wt_data = pd.DataFrame()\n",
    "a5_data = pd.DataFrame()\n",
    "p_bout= pd.DataFrame()\n",
    "group_hour = pd.DataFrame()\n",
    "group_avg = pd.DataFrame()\n",
    "individual_nored_data = pd.DataFrame()\n",
    "\n",
    "for File in os.listdir(fullpath):\n",
    "        if File.endswith('.xlsm'):\n",
    "            #print(File)\n",
    "            excelfile.append(File)\n",
    "            \n",
    "for file in excelfile:       \n",
    "    print(\"data extracting from : \",file)\n",
    "    \n",
    "    # openpyxl read colored cell\n",
    "    print('Individual data processing ---')\n",
    "    start_row_idx ,end_row_idx = get_color_row_idx(file)\n",
    "    individual = pd.read_excel(fullpath+'/'+file, sheet_name = 'Individual')\n",
    "    individual_nored_data = pd.concat([individual_nored_data,individual.iloc[start_row_idx-2:end_row_idx-2,:]],axis = 1)\n",
    "    \n",
    "    # 6 Cycles concating---\n",
    "    print('6 Cycles data processing---')\n",
    "    six_Cycles = pd.read_excel(fullpath+'/'+file, sheet_name = '6 Cycles')\n",
    "    wt_data = pd.concat([wt_data,six_Cycles.loc[:,'WT':'Cycle-5']],axis = 1)\n",
    "    # extract rows unitl the first blank appears\n",
    "    wt_data = wt_data.iloc[:wt_data.isnull().any(axis=1).idxmax(),:]\n",
    "    a5_data = pd.concat([a5_data,six_Cycles.loc[:,'A5':'Cycle-5.1']],axis = 1)\n",
    "    a5_data = a5_data.iloc[:a5_data.isnull().any(axis=1).idxmax(),:]\n",
    "    \n",
    "    # sleep bouts concating ---\n",
    "    sleepbouts = pd.read_excel(fullpath+'/'+file, sheet_name = 'Sleep Bouts')\n",
    "    print('Sleep Bouts data processing---')\n",
    "    id_data1 = sleepbouts[sleepbouts[\"Unnamed: 0\"]== \"Data-1\"].index.tolist()[0]\n",
    "    sleepbouts = sleepbouts.iloc[id_data1+1:,:]\n",
    "    id_data1_end = sleepbouts[sleepbouts[\"Unnamed: 0\"]== \"Data-1\"].index.tolist()[0]\n",
    "    #select data with non-null columns and rows\n",
    "    sleepbouts = sleepbouts.iloc[:id_data1_end-id_data1-1,:]\n",
    "    sleepbouts = sleepbouts.dropna(axis=1, how = 'all')\n",
    "    sleepbouts = sleepbouts.dropna(axis=0, how = 'all')\n",
    "    #print(sleepbouts.shape)    \n",
    "    p_bout = pd.concat([p_bout,sleepbouts],axis = 1)\n",
    "    \n",
    "    # group count data concating ---\n",
    "    print('groupcount data processing---')\n",
    "    groupcount = pd.read_excel(fullpath+'/'+file, sheet_name ='GroupCount Data')\n",
    "    hour_hour = list(groupcount).index(\"Hour-1 After Correction by Hour\")\n",
    "    hour_avg = list(groupcount).index('Hour-1 After Correction by Average')\n",
    "    group_hour = pd.concat([group_hour,groupcount.iloc[:,hour_hour:hour_hour+3]],axis = 1)\n",
    "    group_avg = pd.concat([group_avg,groupcount.iloc[:,hour_avg:hour_avg+3]],axis = 1)\n",
    "\n",
    "six_cycles_total = pd.concat([wt_data,a5_data],axis = 1)\n",
    "\n",
    "group_hour.reset_index(drop = True,inplace = True)\n",
    "group_avg.reset_index(drop = True,inplace = True)\n",
    "groupc_total = pd.concat([group_hour,group_avg],axis = 1)\n",
    "print('Grouping DONE!')\n",
    "\n",
    "with pd.ExcelWriter(fullpath +'/groupfile.xlsx', engine = 'xlsxwriter') as writer:\n",
    "    \n",
    "    individual_nored_data.to_excel(writer ,sheet_name = 'Individual',index = False ,header = False)\n",
    "    six_cycles_total.to_excel(writer ,sheet_name = '6 Cycles',index = False ,header = True)\n",
    "    p_bout.to_excel(writer ,sheet_name = 'Sleep Bouts',index = False ,header = False)\n",
    "    groupc_total.to_excel(writer ,sheet_name = 'Group Count Data',index = False ,header = True)\n",
    "    \n",
    "    \n",
    "    worksheet = writer.sheets['6 Cycles']\n",
    "    worksheet.set_column(\"A:Z\", 10)\n",
    "    worksheet = writer.sheets['Sleep Bouts']\n",
    "    worksheet.set_column(\"A:Z\", 15)\n",
    "    worksheet = writer.sheets['Group Count Data']\n",
    "    worksheet.set_column(\"A:Z\", 15)\n",
    "    \n",
    "writer.save()\n",
    "writer.close()"
   ]
  },
  {
   "cell_type": "code",
   "execution_count": null,
   "id": "f27b7110",
   "metadata": {},
   "outputs": [],
   "source": []
  }
 ],
 "metadata": {
  "kernelspec": {
   "display_name": "Python 3 (ipykernel)",
   "language": "python",
   "name": "python3"
  },
  "language_info": {
   "codemirror_mode": {
    "name": "ipython",
    "version": 3
   },
   "file_extension": ".py",
   "mimetype": "text/x-python",
   "name": "python",
   "nbconvert_exporter": "python",
   "pygments_lexer": "ipython3",
   "version": "3.8.17"
  }
 },
 "nbformat": 4,
 "nbformat_minor": 5
}
